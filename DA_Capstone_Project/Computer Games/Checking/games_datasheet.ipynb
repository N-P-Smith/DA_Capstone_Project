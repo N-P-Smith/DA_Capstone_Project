{
 "cells": [
  {
   "cell_type": "code",
   "execution_count": null,
   "metadata": {},
   "outputs": [],
   "source": [
    "# Games across platforms from 2000 until 2023."
   ]
  },
  {
   "cell_type": "code",
   "execution_count": 1,
   "metadata": {},
   "outputs": [],
   "source": [
    "import pandas as pd"
   ]
  },
  {
   "cell_type": "code",
   "execution_count": 2,
   "metadata": {},
   "outputs": [
    {
     "data": {
      "text/html": [
       "<div>\n",
       "<style scoped>\n",
       "    .dataframe tbody tr th:only-of-type {\n",
       "        vertical-align: middle;\n",
       "    }\n",
       "\n",
       "    .dataframe tbody tr th {\n",
       "        vertical-align: top;\n",
       "    }\n",
       "\n",
       "    .dataframe thead th {\n",
       "        text-align: right;\n",
       "    }\n",
       "</style>\n",
       "<table border=\"1\" class=\"dataframe\">\n",
       "  <thead>\n",
       "    <tr style=\"text-align: right;\">\n",
       "      <th></th>\n",
       "      <th>Game Name</th>\n",
       "      <th>Genre</th>\n",
       "      <th>Platform</th>\n",
       "      <th>Release Year</th>\n",
       "      <th>User Rating</th>\n",
       "    </tr>\n",
       "  </thead>\n",
       "  <tbody>\n",
       "    <tr>\n",
       "      <th>0</th>\n",
       "      <td>Sekiro: Shadows Die Twice</td>\n",
       "      <td>Sports</td>\n",
       "      <td>Nintendo Switch</td>\n",
       "      <td>2014</td>\n",
       "      <td>9.654719</td>\n",
       "    </tr>\n",
       "    <tr>\n",
       "      <th>1</th>\n",
       "      <td>Control</td>\n",
       "      <td>Puzzle</td>\n",
       "      <td>Nintendo Switch</td>\n",
       "      <td>2000</td>\n",
       "      <td>3.457386</td>\n",
       "    </tr>\n",
       "    <tr>\n",
       "      <th>2</th>\n",
       "      <td>Among Us</td>\n",
       "      <td>Strategy</td>\n",
       "      <td>Nintendo Switch</td>\n",
       "      <td>2007</td>\n",
       "      <td>5.367622</td>\n",
       "    </tr>\n",
       "    <tr>\n",
       "      <th>3</th>\n",
       "      <td>Call of Duty: Modern Warfare</td>\n",
       "      <td>Stealth</td>\n",
       "      <td>PlayStation</td>\n",
       "      <td>2005</td>\n",
       "      <td>1.240325</td>\n",
       "    </tr>\n",
       "    <tr>\n",
       "      <th>4</th>\n",
       "      <td>League of Legends</td>\n",
       "      <td>Simulation</td>\n",
       "      <td>PC</td>\n",
       "      <td>2021</td>\n",
       "      <td>3.535476</td>\n",
       "    </tr>\n",
       "    <tr>\n",
       "      <th>...</th>\n",
       "      <td>...</td>\n",
       "      <td>...</td>\n",
       "      <td>...</td>\n",
       "      <td>...</td>\n",
       "      <td>...</td>\n",
       "    </tr>\n",
       "    <tr>\n",
       "      <th>4995</th>\n",
       "      <td>The Legend of Zelda: Breath of the Wild</td>\n",
       "      <td>Sports</td>\n",
       "      <td>PC</td>\n",
       "      <td>2013</td>\n",
       "      <td>6.352838</td>\n",
       "    </tr>\n",
       "    <tr>\n",
       "      <th>4996</th>\n",
       "      <td>Assassin's Creed Valhalla</td>\n",
       "      <td>Stealth</td>\n",
       "      <td>Mobile</td>\n",
       "      <td>2020</td>\n",
       "      <td>1.852730</td>\n",
       "    </tr>\n",
       "    <tr>\n",
       "      <th>4997</th>\n",
       "      <td>Fall Guys: Ultimate Knockout</td>\n",
       "      <td>Sports</td>\n",
       "      <td>Mobile</td>\n",
       "      <td>2021</td>\n",
       "      <td>5.268067</td>\n",
       "    </tr>\n",
       "    <tr>\n",
       "      <th>4998</th>\n",
       "      <td>Borderlands 3</td>\n",
       "      <td>Platformer</td>\n",
       "      <td>Xbox</td>\n",
       "      <td>2018</td>\n",
       "      <td>4.558510</td>\n",
       "    </tr>\n",
       "    <tr>\n",
       "      <th>4999</th>\n",
       "      <td>Counter-Strike: Global Offensive</td>\n",
       "      <td>Action</td>\n",
       "      <td>PlayStation</td>\n",
       "      <td>2022</td>\n",
       "      <td>3.443231</td>\n",
       "    </tr>\n",
       "  </tbody>\n",
       "</table>\n",
       "<p>5000 rows × 5 columns</p>\n",
       "</div>"
      ],
      "text/plain": [
       "                                    Game Name       Genre         Platform  \\\n",
       "0                   Sekiro: Shadows Die Twice      Sports  Nintendo Switch   \n",
       "1                                     Control      Puzzle  Nintendo Switch   \n",
       "2                                    Among Us    Strategy  Nintendo Switch   \n",
       "3                Call of Duty: Modern Warfare     Stealth      PlayStation   \n",
       "4                           League of Legends  Simulation               PC   \n",
       "...                                       ...         ...              ...   \n",
       "4995  The Legend of Zelda: Breath of the Wild      Sports               PC   \n",
       "4996                Assassin's Creed Valhalla     Stealth           Mobile   \n",
       "4997             Fall Guys: Ultimate Knockout      Sports           Mobile   \n",
       "4998                            Borderlands 3  Platformer             Xbox   \n",
       "4999         Counter-Strike: Global Offensive      Action      PlayStation   \n",
       "\n",
       "      Release Year  User Rating  \n",
       "0             2014     9.654719  \n",
       "1             2000     3.457386  \n",
       "2             2007     5.367622  \n",
       "3             2005     1.240325  \n",
       "4             2021     3.535476  \n",
       "...            ...          ...  \n",
       "4995          2013     6.352838  \n",
       "4996          2020     1.852730  \n",
       "4997          2021     5.268067  \n",
       "4998          2018     4.558510  \n",
       "4999          2022     3.443231  \n",
       "\n",
       "[5000 rows x 5 columns]"
      ]
     },
     "execution_count": 2,
     "metadata": {},
     "output_type": "execute_result"
    }
   ],
   "source": [
    "df = pd.read_csv(\"../Data/games_dataset.csv\")\n",
    "\n",
    "df"
   ]
  },
  {
   "cell_type": "code",
   "execution_count": 3,
   "metadata": {},
   "outputs": [
    {
     "name": "stdout",
     "output_type": "stream",
     "text": [
      "<class 'pandas.core.frame.DataFrame'>\n",
      "RangeIndex: 5000 entries, 0 to 4999\n",
      "Data columns (total 5 columns):\n",
      " #   Column        Non-Null Count  Dtype  \n",
      "---  ------        --------------  -----  \n",
      " 0   Game Name     5000 non-null   object \n",
      " 1   Genre         5000 non-null   object \n",
      " 2   Platform      5000 non-null   object \n",
      " 3   Release Year  5000 non-null   int64  \n",
      " 4   User Rating   5000 non-null   float64\n",
      "dtypes: float64(1), int64(1), object(3)\n",
      "memory usage: 195.4+ KB\n"
     ]
    }
   ],
   "source": [
    "df.info()"
   ]
  },
  {
   "cell_type": "code",
   "execution_count": 4,
   "metadata": {},
   "outputs": [
    {
     "data": {
      "text/html": [
       "<div>\n",
       "<style scoped>\n",
       "    .dataframe tbody tr th:only-of-type {\n",
       "        vertical-align: middle;\n",
       "    }\n",
       "\n",
       "    .dataframe tbody tr th {\n",
       "        vertical-align: top;\n",
       "    }\n",
       "\n",
       "    .dataframe thead th {\n",
       "        text-align: right;\n",
       "    }\n",
       "</style>\n",
       "<table border=\"1\" class=\"dataframe\">\n",
       "  <thead>\n",
       "    <tr style=\"text-align: right;\">\n",
       "      <th></th>\n",
       "      <th>Release Year</th>\n",
       "      <th>User Rating</th>\n",
       "    </tr>\n",
       "  </thead>\n",
       "  <tbody>\n",
       "    <tr>\n",
       "      <th>count</th>\n",
       "      <td>5000.000000</td>\n",
       "      <td>5000.000000</td>\n",
       "    </tr>\n",
       "    <tr>\n",
       "      <th>mean</th>\n",
       "      <td>2011.375400</td>\n",
       "      <td>5.524913</td>\n",
       "    </tr>\n",
       "    <tr>\n",
       "      <th>std</th>\n",
       "      <td>6.943984</td>\n",
       "      <td>2.598429</td>\n",
       "    </tr>\n",
       "    <tr>\n",
       "      <th>min</th>\n",
       "      <td>2000.000000</td>\n",
       "      <td>1.005878</td>\n",
       "    </tr>\n",
       "    <tr>\n",
       "      <th>25%</th>\n",
       "      <td>2005.000000</td>\n",
       "      <td>3.260596</td>\n",
       "    </tr>\n",
       "    <tr>\n",
       "      <th>50%</th>\n",
       "      <td>2011.000000</td>\n",
       "      <td>5.574233</td>\n",
       "    </tr>\n",
       "    <tr>\n",
       "      <th>75%</th>\n",
       "      <td>2017.000000</td>\n",
       "      <td>7.802727</td>\n",
       "    </tr>\n",
       "    <tr>\n",
       "      <th>max</th>\n",
       "      <td>2023.000000</td>\n",
       "      <td>9.996196</td>\n",
       "    </tr>\n",
       "  </tbody>\n",
       "</table>\n",
       "</div>"
      ],
      "text/plain": [
       "       Release Year  User Rating\n",
       "count   5000.000000  5000.000000\n",
       "mean    2011.375400     5.524913\n",
       "std        6.943984     2.598429\n",
       "min     2000.000000     1.005878\n",
       "25%     2005.000000     3.260596\n",
       "50%     2011.000000     5.574233\n",
       "75%     2017.000000     7.802727\n",
       "max     2023.000000     9.996196"
      ]
     },
     "execution_count": 4,
     "metadata": {},
     "output_type": "execute_result"
    }
   ],
   "source": [
    "df.describe()"
   ]
  },
  {
   "cell_type": "code",
   "execution_count": 5,
   "metadata": {},
   "outputs": [
    {
     "data": {
      "text/plain": [
       "array(['Sports', 'Puzzle', 'Strategy', 'Stealth', 'Simulation', 'Shooter',\n",
       "       'Adventure', 'Horror', 'Racing', 'Role-playing', 'Action',\n",
       "       'Survival', 'Fighting', 'Platformer'], dtype=object)"
      ]
     },
     "execution_count": 5,
     "metadata": {},
     "output_type": "execute_result"
    }
   ],
   "source": [
    "df[\"Genre\"].unique()"
   ]
  },
  {
   "cell_type": "code",
   "execution_count": 6,
   "metadata": {},
   "outputs": [
    {
     "data": {
      "text/plain": [
       "array(['Nintendo Switch', 'PlayStation', 'PC', 'Xbox', 'Mobile'],\n",
       "      dtype=object)"
      ]
     },
     "execution_count": 6,
     "metadata": {},
     "output_type": "execute_result"
    }
   ],
   "source": [
    "df[\"Platform\"].unique()"
   ]
  }
 ],
 "metadata": {
  "kernelspec": {
   "display_name": "base",
   "language": "python",
   "name": "python3"
  },
  "language_info": {
   "codemirror_mode": {
    "name": "ipython",
    "version": 3
   },
   "file_extension": ".py",
   "mimetype": "text/x-python",
   "name": "python",
   "nbconvert_exporter": "python",
   "pygments_lexer": "ipython3",
   "version": "3.12.2"
  }
 },
 "nbformat": 4,
 "nbformat_minor": 2
}
