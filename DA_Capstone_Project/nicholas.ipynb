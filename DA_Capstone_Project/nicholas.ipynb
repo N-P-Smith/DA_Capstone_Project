{
 "cells": [
  {
   "cell_type": "code",
   "execution_count": 1,
   "id": "df3333e4-5fba-49d8-9fb8-db107a7b1e23",
   "metadata": {},
   "outputs": [],
   "source": [
    "import pandas as pd"
   ]
  },
  {
   "cell_type": "markdown",
   "id": "c8f5d83a-dfa1-4685-a14b-7fdc6afb7382",
   "metadata": {},
   "source": [
    "## creating an example df"
   ]
  },
  {
   "cell_type": "code",
   "execution_count": 15,
   "id": "9e6bef0c-83e1-491f-94b0-6bee42ca3e90",
   "metadata": {},
   "outputs": [],
   "source": [
    "data = {\n",
    "    'name': ['Game A', 'Game B', 'Game C'],\n",
    "    'category': ['1021,1030,1001', '1050,1030', '1001,1050']\n",
    "}\n",
    "df = pd.DataFrame(data)"
   ]
  },
  {
   "cell_type": "code",
   "execution_count": 16,
   "id": "10942444-ba5a-4a47-847b-28ca2ad5db0c",
   "metadata": {},
   "outputs": [
    {
     "data": {
      "text/html": [
       "<div>\n",
       "<style scoped>\n",
       "    .dataframe tbody tr th:only-of-type {\n",
       "        vertical-align: middle;\n",
       "    }\n",
       "\n",
       "    .dataframe tbody tr th {\n",
       "        vertical-align: top;\n",
       "    }\n",
       "\n",
       "    .dataframe thead th {\n",
       "        text-align: right;\n",
       "    }\n",
       "</style>\n",
       "<table border=\"1\" class=\"dataframe\">\n",
       "  <thead>\n",
       "    <tr style=\"text-align: right;\">\n",
       "      <th></th>\n",
       "      <th>name</th>\n",
       "      <th>category</th>\n",
       "    </tr>\n",
       "  </thead>\n",
       "  <tbody>\n",
       "    <tr>\n",
       "      <th>0</th>\n",
       "      <td>Game A</td>\n",
       "      <td>1021,1030,1001</td>\n",
       "    </tr>\n",
       "    <tr>\n",
       "      <th>1</th>\n",
       "      <td>Game B</td>\n",
       "      <td>1050,1030</td>\n",
       "    </tr>\n",
       "    <tr>\n",
       "      <th>2</th>\n",
       "      <td>Game C</td>\n",
       "      <td>1001,1050</td>\n",
       "    </tr>\n",
       "  </tbody>\n",
       "</table>\n",
       "</div>"
      ],
      "text/plain": [
       "     name        category\n",
       "0  Game A  1021,1030,1001\n",
       "1  Game B       1050,1030\n",
       "2  Game C       1001,1050"
      ]
     },
     "execution_count": 16,
     "metadata": {},
     "output_type": "execute_result"
    }
   ],
   "source": [
    "df"
   ]
  },
  {
   "cell_type": "code",
   "execution_count": null,
   "id": "9d1199d2-83ba-4747-916e-d209a4676f66",
   "metadata": {},
   "outputs": [],
   "source": []
  },
  {
   "cell_type": "code",
   "execution_count": 11,
   "id": "7b5bea55-0acd-4e72-84a5-9f2d1612a04c",
   "metadata": {},
   "outputs": [],
   "source": [
    "unique_categories = []  # Start with an empty list\n",
    "\n",
    "# Loop through each row to collect unique categories\n",
    "for row in df['category']:\n",
    "    for category in row.split(','):\n",
    "        if category not in unique_categories:  # Ensure uniqueness\n",
    "            unique_categories.append(category)"
   ]
  },
  {
   "cell_type": "code",
   "execution_count": 9,
   "id": "868607e7-776a-48aa-a1c2-bb697ec79b2e",
   "metadata": {},
   "outputs": [],
   "source": []
  },
  {
   "cell_type": "code",
   "execution_count": 12,
   "id": "d653a30a-154d-40ef-a035-4b614b772216",
   "metadata": {},
   "outputs": [
    {
     "data": {
      "text/plain": [
       "['1021', '1030', '1001', '1050']"
      ]
     },
     "execution_count": 12,
     "metadata": {},
     "output_type": "execute_result"
    }
   ],
   "source": [
    "unique_categories"
   ]
  },
  {
   "cell_type": "code",
   "execution_count": null,
   "id": "8fa593b4-726c-41e1-b21a-1a6f12514ae7",
   "metadata": {},
   "outputs": [],
   "source": []
  },
  {
   "cell_type": "code",
   "execution_count": null,
   "id": "f4015f99-736d-4c4b-8001-a1f0d374e528",
   "metadata": {},
   "outputs": [],
   "source": []
  },
  {
   "cell_type": "markdown",
   "id": "2e078dcb-353f-4e72-b8bf-363c9d5f6b2c",
   "metadata": {},
   "source": [
    "## create columns for each category"
   ]
  },
  {
   "cell_type": "code",
   "execution_count": 6,
   "id": "743e842d-8a4f-4ee1-be6a-081be772639e",
   "metadata": {},
   "outputs": [],
   "source": [
    "# Step 3: Add a new column for each category and initialize with False as default\n",
    "for category in unique_categories:\n",
    "    df[category] = False"
   ]
  },
  {
   "cell_type": "code",
   "execution_count": 13,
   "id": "3681d8a2-f779-4052-8c5c-0ef84550ecd7",
   "metadata": {},
   "outputs": [],
   "source": [
    "for index, row in df.iterrows():  #loop through each row\n",
    "    categories = row['category'].split(',') #splitting the cat\n",
    "    for category in categories:\n",
    "        df.at[index, category] = True"
   ]
  },
  {
   "cell_type": "code",
   "execution_count": 14,
   "id": "6e52d16c-b472-4752-a087-c004151f05a4",
   "metadata": {},
   "outputs": [
    {
     "data": {
      "text/html": [
       "<div>\n",
       "<style scoped>\n",
       "    .dataframe tbody tr th:only-of-type {\n",
       "        vertical-align: middle;\n",
       "    }\n",
       "\n",
       "    .dataframe tbody tr th {\n",
       "        vertical-align: top;\n",
       "    }\n",
       "\n",
       "    .dataframe thead th {\n",
       "        text-align: right;\n",
       "    }\n",
       "</style>\n",
       "<table border=\"1\" class=\"dataframe\">\n",
       "  <thead>\n",
       "    <tr style=\"text-align: right;\">\n",
       "      <th></th>\n",
       "      <th>name</th>\n",
       "      <th>category</th>\n",
       "      <th>1030</th>\n",
       "      <th>1050</th>\n",
       "      <th>1021</th>\n",
       "      <th>1001</th>\n",
       "    </tr>\n",
       "  </thead>\n",
       "  <tbody>\n",
       "    <tr>\n",
       "      <th>0</th>\n",
       "      <td>Game A</td>\n",
       "      <td>1021,1030,1001</td>\n",
       "      <td>True</td>\n",
       "      <td>False</td>\n",
       "      <td>True</td>\n",
       "      <td>True</td>\n",
       "    </tr>\n",
       "    <tr>\n",
       "      <th>1</th>\n",
       "      <td>Game B</td>\n",
       "      <td>1050,1030</td>\n",
       "      <td>True</td>\n",
       "      <td>True</td>\n",
       "      <td>False</td>\n",
       "      <td>False</td>\n",
       "    </tr>\n",
       "    <tr>\n",
       "      <th>2</th>\n",
       "      <td>Game C</td>\n",
       "      <td>1001,1050</td>\n",
       "      <td>False</td>\n",
       "      <td>True</td>\n",
       "      <td>False</td>\n",
       "      <td>True</td>\n",
       "    </tr>\n",
       "  </tbody>\n",
       "</table>\n",
       "</div>"
      ],
      "text/plain": [
       "     name        category   1030   1050   1021   1001\n",
       "0  Game A  1021,1030,1001   True  False   True   True\n",
       "1  Game B       1050,1030   True   True  False  False\n",
       "2  Game C       1001,1050  False   True  False   True"
      ]
     },
     "execution_count": 14,
     "metadata": {},
     "output_type": "execute_result"
    }
   ],
   "source": [
    "df"
   ]
  },
  {
   "cell_type": "code",
   "execution_count": null,
   "id": "ddfae828-c646-4236-ba00-550a58a97ad2",
   "metadata": {},
   "outputs": [],
   "source": []
  }
 ],
 "metadata": {
  "kernelspec": {
   "display_name": "Python 3 (ipykernel)",
   "language": "python",
   "name": "python3"
  },
  "language_info": {
   "codemirror_mode": {
    "name": "ipython",
    "version": 3
   },
   "file_extension": ".py",
   "mimetype": "text/x-python",
   "name": "python",
   "nbconvert_exporter": "python",
   "pygments_lexer": "ipython3",
   "version": "3.11.5"
  }
 },
 "nbformat": 4,
 "nbformat_minor": 5
}
